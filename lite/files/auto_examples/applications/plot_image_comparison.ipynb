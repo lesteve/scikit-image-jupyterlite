{
  "cells": [
    {
      "cell_type": "markdown",
      "metadata": {},
      "source": [
        "<div class='alert alert-warning'>\n\n# JupyterLite warning\n\nRunning the scikit-image examples in JupyterLite is experimental and you may encounter some unexpected behavior.\n\nThe main difference is that imports will take a lot longer than usual, for example the first `import skimage` can take roughly 10-20s.\n\nIf you notice problems, feel free to open an [issue](https://github.com/scikit-image/scikit-image/issues/new/choose) about it.\n</div>"
      ]
    },
    {
      "cell_type": "code",
      "execution_count": null,
      "metadata": {
        "collapsed": false
      },
      "outputs": [],
      "source": [
        "# JupyterLite-specific code\n%pip install pyodide-http\nimport pyodide_http\npyodide_http.patch_all()\n\nimport re\n\nimport skimage.data._registry\n\nnew_registry_urls = {\n    k: re.sub(\n        r'https://gitlab.com/(.+)/-/raw(.+)',\n        r'https://cdn.statically.io/gl/\\1\\2',\n        url\n    )\n    for k, url in skimage.data._registry.registry_urls.items()\n}\nskimage.data._registry.registry_urls = new_registry_urls\n    \nimport matplotlib\nimport pandas\nimport lzma\n%pip install pooch\nimport pooch"
      ]
    },
    {
      "cell_type": "markdown",
      "metadata": {},
      "source": [
        "\n# Visual image comparison\n\nImage comparison is particularly useful when performing image processing tasks\nsuch as exposure manipulations, filtering, and restoration.\n\nThis example shows how to easily compare two images with various approaches.\n"
      ]
    },
    {
      "cell_type": "code",
      "execution_count": null,
      "metadata": {
        "collapsed": false
      },
      "outputs": [],
      "source": [
        "import matplotlib.pyplot as plt\nfrom matplotlib.gridspec import GridSpec\n\nfrom skimage import data, transform, exposure\nfrom skimage.util import compare_images\n\n\nimg1 = data.coins()\nimg1_equalized = exposure.equalize_hist(img1)\nimg2 = transform.rotate(img1, 2)\n\n\ncomp_equalized = compare_images(img1, img1_equalized, method='checkerboard')\ndiff_rotated = compare_images(img1, img2, method='diff')\nblend_rotated = compare_images(img1, img2, method='blend')"
      ]
    },
    {
      "cell_type": "markdown",
      "metadata": {},
      "source": [
        "## Checkerboard\n\nThe `checkerboard` method alternates tiles from the first and the second\nimages.\n\n"
      ]
    },
    {
      "cell_type": "code",
      "execution_count": null,
      "metadata": {
        "collapsed": false
      },
      "outputs": [],
      "source": [
        "fig = plt.figure(figsize=(8, 9))\n\ngs = GridSpec(3, 2)\nax0 = fig.add_subplot(gs[0, 0])\nax1 = fig.add_subplot(gs[0, 1])\nax2 = fig.add_subplot(gs[1:, :])\n\nax0.imshow(img1, cmap='gray')\nax0.set_title('Original')\nax1.imshow(img1_equalized, cmap='gray')\nax1.set_title('Equalized')\nax2.imshow(comp_equalized, cmap='gray')\nax2.set_title('Checkerboard comparison')\nfor a in (ax0, ax1, ax2):\n    a.axis('off')\nplt.tight_layout()\nplt.plot()"
      ]
    },
    {
      "cell_type": "markdown",
      "metadata": {},
      "source": [
        "## Diff\n\nThe `diff` method computes the absolute difference between the two images.\n\n"
      ]
    },
    {
      "cell_type": "code",
      "execution_count": null,
      "metadata": {
        "collapsed": false
      },
      "outputs": [],
      "source": [
        "fig = plt.figure(figsize=(8, 9))\n\ngs = GridSpec(3, 2)\nax0 = fig.add_subplot(gs[0, 0])\nax1 = fig.add_subplot(gs[0, 1])\nax2 = fig.add_subplot(gs[1:, :])\n\nax0.imshow(img1, cmap='gray')\nax0.set_title('Original')\nax1.imshow(img2, cmap='gray')\nax1.set_title('Rotated')\nax2.imshow(diff_rotated, cmap='gray')\nax2.set_title('Diff comparison')\nfor a in (ax0, ax1, ax2):\n    a.axis('off')\nplt.tight_layout()\nplt.plot()"
      ]
    },
    {
      "cell_type": "markdown",
      "metadata": {},
      "source": [
        "## Blend\n\n`blend` is the result of the average of the two images.\n\n"
      ]
    },
    {
      "cell_type": "code",
      "execution_count": null,
      "metadata": {
        "collapsed": false
      },
      "outputs": [],
      "source": [
        "fig = plt.figure(figsize=(8, 9))\n\ngs = GridSpec(3, 2)\nax0 = fig.add_subplot(gs[0, 0])\nax1 = fig.add_subplot(gs[0, 1])\nax2 = fig.add_subplot(gs[1:, :])\n\nax0.imshow(img1, cmap='gray')\nax0.set_title('Original')\nax1.imshow(img2, cmap='gray')\nax1.set_title('Rotated')\nax2.imshow(blend_rotated, cmap='gray')\nax2.set_title('Blend comparison')\nfor a in (ax0, ax1, ax2):\n    a.axis('off')\nplt.tight_layout()\nplt.plot()"
      ]
    }
  ],
  "metadata": {
    "kernelspec": {
      "display_name": "Python 3",
      "language": "python",
      "name": "python3"
    },
    "language_info": {
      "codemirror_mode": {
        "name": "ipython",
        "version": 3
      },
      "file_extension": ".py",
      "mimetype": "text/x-python",
      "name": "python",
      "nbconvert_exporter": "python",
      "pygments_lexer": "ipython3",
      "version": "3.10.6"
    }
  },
  "nbformat": 4,
  "nbformat_minor": 0
}